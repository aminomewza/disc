{
 "cells": [
  {
   "cell_type": "markdown",
   "source": [
    "# Setup"
   ],
   "metadata": {
    "collapsed": false,
    "pycharm": {
     "name": "#%% md\n"
    }
   }
  },
  {
   "cell_type": "markdown",
   "source": [
    "The below [autoreload](https://ipython.org/ipython-doc/3/config/extensions/autoreload.html) extension ensures that if any locally imported python files change, the modules defined there are reloaded"
   ],
   "metadata": {
    "collapsed": false,
    "pycharm": {
     "name": "#%% md\n"
    }
   }
  },
  {
   "cell_type": "code",
   "execution_count": 1,
   "outputs": [],
   "source": [
    "%load_ext autoreload\n",
    "%autoreload 2"
   ],
   "metadata": {
    "collapsed": false,
    "pycharm": {
     "name": "#%%\n"
    }
   }
  },
  {
   "cell_type": "markdown",
   "source": [
    "The below imports [`here`](https://pypi.org/project/pyprojroot/), which allows one to refer to the root directory of the project in a consistent manner across execution environments. It then adds `here()` (the root directory) to the system path to ensure that we can load python modules defined in the project."
   ],
   "metadata": {
    "collapsed": false,
    "pycharm": {
     "name": "#%% md\n"
    }
   }
  },
  {
   "cell_type": "code",
   "execution_count": 2,
   "outputs": [],
   "source": [
    "from hereutil import here, add_to_sys_path\n",
    "add_to_sys_path(here())"
   ],
   "metadata": {
    "collapsed": false,
    "pycharm": {
     "name": "#%%\n"
    }
   }
  },
  {
   "cell_type": "markdown",
   "source": [
    "Having ensured that the root path of the project is in the system path, we can load common basis functions from [src/common_basis.py](/src/common_basis.py). The template assumes that functions useful for most work be defined in `common_basis.py`, whereas code useful for individual analyses is defined where needed.\n",
    "\n",
    "Naturally, if more refined organisation of common code is needed, one is also free to define whichever other modules one wants.\n",
    "\n",
    "The central object defined in `common_basis` is `con`, which is the [MariaDB](https://mariadb.com/) (MySQL) database connection (an [SQLAlchemy Connection](https://docs.sqlalchemy.org/en/14/core/connections.html)) through which both ready data is accessed, as well as new data stored for others to reuse. Below, you will see both how to use con to store data in the database, as well as how query it.\n",
    "\n",
    "The details of the database connection are stored in [`db_params.yaml`](/db_params.yaml). The password is given separately. **DO NOT INCLUDE THE PASSWORD IN ANY CODE YOU COMMIT TO GITHUB**. If running this notebook, it will ask for the password the first time you run it, and then store it separately in your keyring. This requires a working keyring implementation on your system. Consult the [`keyring`](https://pypi.org/project/keyring/) package documentation if you have problems.  If you cannot get it to work, a second option is to create a `db_secret.yaml` file in the project root directory with `db_pass: [PASSWORD]` as the content. This file is already set to be ignored by Git so it wouldn't accidentally get included in a commit, but still, if you do this, **DON'T MAKE THE MISTAKE OF COMMITTING THE FILE TO GITHUB**.\n"
   ],
   "metadata": {
    "collapsed": false,
    "pycharm": {
     "name": "#%% md\n"
    }
   }
  },
  {
   "cell_type": "code",
   "execution_count": 3,
   "outputs": [],
   "source": [
    "from src.common_basis import *"
   ],
   "metadata": {
    "collapsed": false,
    "pycharm": {
     "name": "#%%\n"
    }
   }
  },
  {
   "cell_type": "markdown",
   "source": [],
   "metadata": {
    "collapsed": false,
    "pycharm": {
     "name": "#%% md\n"
    }
   }
  },
  {
   "cell_type": "markdown",
   "source": [
    "# Storing data in the database"
   ],
   "metadata": {
    "collapsed": false,
    "pycharm": {
     "name": "#%% md\n"
    }
   }
  },
  {
   "cell_type": "code",
   "execution_count": 5,
   "outputs": [
    {
     "data": {
      "text/plain": "4"
     },
     "execution_count": 5,
     "metadata": {},
     "output_type": "execute_result"
    }
   ],
   "source": [
    "from sqlalchemy import text\n",
    "import pandas as pd\n",
    "\n",
    "# create some sample data\n",
    "d = pd.DataFrame(data={\n",
    "    'year': [1700, 1710, 1710, 1713],\n",
    "    'type': ['book', 'pamphlet', 'pamphlet', 'pamphlet'],\n",
    "    'genre': ['drama', 'literature', 'science', 'drama']\n",
    "})\n",
    "\n",
    "# this copies the sample data to the database. con is the connection object that is defined in common_basis. Additionally for efficiency reasons, we want the created table to be an Aria table, not an InnoDB table.\n",
    "set_session_storage_engine(con, \"Aria\")\n",
    "d.to_sql(\"test_a\", con, index=False, method=\"multi\", if_exists=\"replace\")\n",
    "\n",
    "# Here, we also create a ColumnStore (https://mariadb.com/kb/en/mariadb-columnstore/) version of the table. ColumnStore tables are very good for large aggregate queries, but support for them is still a bit quirky, so some queries may just not work. They're also slower for queries that mainly seek and return individual full rows of data. Further, it is better not to mix ColumnStore and other tables in queries.\n",
    "set_session_storage_engine(con, \"ColumnStore\")\n",
    "d.to_sql(\"test_c\", con, index=False, method=\"multi\", if_exists=\"replace\")\n",
    "\n",
    "# here's an alternate way to define data using datar (https://pwwang.github.io/datar/)\n",
    "from datar.tibble import tibble, as_tibble\n",
    "\n",
    "d = tibble(\n",
    "    year = [1700, 1710, 1710, 1713],\n",
    "    type = ['book', 'pamphlet', 'pamphlet', 'pamphlet'],\n",
    "    genre = ['drama', 'literature', 'science', 'drama']\n",
    ")\n",
    "\n",
    "# a tibble is also a pandas DataFrame, so to_sql works the same\n",
    "\n",
    "set_session_storage_engine(con, \"Aria\")\n",
    "d.to_sql(\"test_a\", con, index=False, method=\"multi\", if_exists=\"replace\")"
   ],
   "metadata": {
    "collapsed": false,
    "pycharm": {
     "name": "#%%\n"
    }
   }
  },
  {
   "cell_type": "markdown",
   "source": [
    "# Data analysis\n",
    "\n",
    "Transferring complete tables from the database to local pandas dataframes works as follows (don't do this with very large tables):"
   ],
   "metadata": {
    "collapsed": false,
    "pycharm": {
     "name": "#%% md\n"
    }
   }
  },
  {
   "cell_type": "code",
   "execution_count": 6,
   "outputs": [
    {
     "data": {
      "text/plain": "     year      type       genre\n  <int64>  <object>    <object>\n0    1700      book       drama\n1    1710  pamphlet  literature\n2    1710  pamphlet     science\n3    1713  pamphlet       drama",
      "text/html": "<div>\n<style scoped>\n    .dataframe tbody tr th:only-of-type {\n        vertical-align: middle;\n    }\n\n    .dataframe tbody tr th {\n        vertical-align: top;\n    }\n\n    .dataframe thead th {\n        text-align: right;\n    }\n</style>\n<table border=\"1\" class=\"dataframe\">\n  <thead>\n    <tr style=\"text-align: right;\">\n      <th></th>\n      <th>year</th>\n      <th>type</th>\n      <th>genre</th>\n    </tr>\n  </thead>\n  <tbody>\n    <tr>\n      <th style=\"font-style: italic;\" ></th>\n      <td style=\"font-style: italic;\" >&lt;int64&gt;</td>\n      <td style=\"font-style: italic;\" >&lt;object&gt;</td>\n      <td style=\"font-style: italic;\" >&lt;object&gt;</td>\n    </tr>\n    <tr>\n      <th>0</th>\n      <td>1700</td>\n      <td>book</td>\n      <td>drama</td>\n    </tr>\n    <tr>\n      <th>1</th>\n      <td>1710</td>\n      <td>pamphlet</td>\n      <td>literature</td>\n    </tr>\n    <tr>\n      <th>2</th>\n      <td>1710</td>\n      <td>pamphlet</td>\n      <td>science</td>\n    </tr>\n    <tr>\n      <th>3</th>\n      <td>1713</td>\n      <td>pamphlet</td>\n      <td>drama</td>\n    </tr>\n  </tbody>\n</table>\n</div>\n"
     },
     "execution_count": 6,
     "metadata": {},
     "output_type": "execute_result"
    }
   ],
   "source": [
    "d = pd.read_sql_table(\"test_a\", con)\n",
    "d"
   ],
   "metadata": {
    "collapsed": false,
    "pycharm": {
     "name": "#%%\n"
    }
   }
  },
  {
   "cell_type": "markdown",
   "source": [
    "If you have larger tables, you are much better off running e.g. aggregation queries using SQL, and then just reading the results:"
   ],
   "metadata": {
    "collapsed": false,
    "pycharm": {
     "name": "#%% md\n"
    }
   }
  },
  {
   "cell_type": "code",
   "execution_count": 7,
   "outputs": [
    {
     "data": {
      "text/plain": "     year   books\n  <int64> <int64>\n0    1710       2\n1    1713       1\n2    1700       1",
      "text/html": "<div>\n<style scoped>\n    .dataframe tbody tr th:only-of-type {\n        vertical-align: middle;\n    }\n\n    .dataframe tbody tr th {\n        vertical-align: top;\n    }\n\n    .dataframe thead th {\n        text-align: right;\n    }\n</style>\n<table border=\"1\" class=\"dataframe\">\n  <thead>\n    <tr style=\"text-align: right;\">\n      <th></th>\n      <th>year</th>\n      <th>books</th>\n    </tr>\n  </thead>\n  <tbody>\n    <tr>\n      <th style=\"font-style: italic;\" ></th>\n      <td style=\"font-style: italic;\" >&lt;int64&gt;</td>\n      <td style=\"font-style: italic;\" >&lt;int64&gt;</td>\n    </tr>\n    <tr>\n      <th>0</th>\n      <td>1710</td>\n      <td>2</td>\n    </tr>\n    <tr>\n      <th>1</th>\n      <td>1713</td>\n      <td>1</td>\n    </tr>\n    <tr>\n      <th>2</th>\n      <td>1700</td>\n      <td>1</td>\n    </tr>\n  </tbody>\n</table>\n</div>\n"
     },
     "execution_count": 7,
     "metadata": {},
     "output_type": "execute_result"
    }
   ],
   "source": [
    "d = pd.read_sql(text(\"\"\"\n",
    "SELECT year, COUNT(*) AS books\n",
    "FROM test_c\n",
    "GROUP BY year\n",
    "\"\"\"), con)\n",
    "d"
   ],
   "metadata": {
    "collapsed": false,
    "pycharm": {
     "name": "#%%\n"
    }
   }
  },
  {
   "cell_type": "markdown",
   "source": [
    "Below, you'll find examples of how to feed data fetched from SQL to various plotting libraries: [matplotlib](https://matplotlib.org/), [seaborn](https://seaborn.pydata.org/) and [plotnine](https://plotnine.readthedocs.io/en/stable/)."
   ],
   "metadata": {
    "collapsed": false,
    "pycharm": {
     "name": "#%% md\n"
    }
   }
  },
  {
   "cell_type": "code",
   "execution_count": 8,
   "outputs": [
    {
     "data": {
      "text/plain": "<Figure size 640x480 with 1 Axes>",
      "image/png": "[encoded data removed]"
     },
     "metadata": {},
     "output_type": "display_data"
    }
   ],
   "source": [
    "import matplotlib.pyplot as plt\n",
    "d = pd.read_sql(text(\"\"\"\n",
    "SELECT year, COUNT(*) AS books\n",
    "FROM test_c\n",
    "GROUP BY year\n",
    "\"\"\"), con)\n",
    "plt.bar(d.year,d.books)\n",
    "plt.show()"
   ],
   "metadata": {
    "collapsed": false,
    "pycharm": {
     "name": "#%%\n"
    }
   }
  },
  {
   "cell_type": "code",
   "execution_count": 9,
   "outputs": [
    {
     "data": {
      "text/plain": "<AxesSubplot:xlabel='year', ylabel='Count'>"
     },
     "execution_count": 9,
     "metadata": {},
     "output_type": "execute_result"
    },
    {
     "data": {
      "text/plain": "<Figure size 640x480 with 1 Axes>",
      "image/png": "[encoded data removed]"
     },
     "metadata": {},
     "output_type": "display_data"
    }
   ],
   "source": [
    "import seaborn as sns\n",
    "d = pd.read_sql(text(\"\"\"\n",
    "SELECT year, COUNT(*) AS books\n",
    "FROM test_c\n",
    "GROUP BY year\n",
    "\"\"\"), con)\n",
    "\n",
    "sns.set_theme(style=\"whitegrid\")\n",
    "sns.histplot(data=d, x=\"year\", weights=\"books\", discrete=True)"
   ],
   "metadata": {
    "collapsed": false,
    "pycharm": {
     "name": "#%%\n"
    }
   }
  },
  {
   "cell_type": "markdown",
   "source": [
    "[plotnine](https://plotnine.readthedocs.io/en/stable/) copies its API from R's [ggplot](https://ggplot2.tidyverse.org/index.html):"
   ],
   "metadata": {
    "collapsed": false,
    "pycharm": {
     "name": "#%% md\n"
    }
   }
  },
  {
   "cell_type": "code",
   "execution_count": 10,
   "outputs": [
    {
     "data": {
      "text/plain": "<Figure size 640x480 with 1 Axes>",
      "image/png": "[encoded data removed]"
     },
     "metadata": {},
     "output_type": "display_data"
    },
    {
     "data": {
      "text/plain": "<ggplot: (682575936)>"
     },
     "execution_count": 10,
     "metadata": {},
     "output_type": "execute_result"
    }
   ],
   "source": [
    "import plotnine as p9\n",
    "d = as_tibble(pd.read_sql(text(\"\"\"\n",
    "SELECT year, COUNT(*) AS books\n",
    "FROM test_c\n",
    "GROUP BY year\n",
    "\"\"\"), con))\n",
    "(d >>\n",
    "  p9.ggplot(p9.aes(x='year', y='books')) +\n",
    "  p9.theme_classic() +\n",
    "  p9.geom_col())"
   ],
   "metadata": {
    "collapsed": false,
    "pycharm": {
     "name": "#%%\n"
    }
   }
  },
  {
   "cell_type": "markdown",
   "source": [
    "Combinding [plotnine](https://plotnine.readthedocs.io/en/stable/) with [datar](https://pwwang.github.io/datar/), you can get a really R [tidyverse](https://www.tidyverse.org/)-like data manipulation flow in Python:"
   ],
   "metadata": {
    "collapsed": false,
    "pycharm": {
     "name": "#%% md\n"
    }
   }
  },
  {
   "cell_type": "code",
   "execution_count": 11,
   "outputs": [
    {
     "data": {
      "text/plain": "<Figure size 640x480 with 1 Axes>",
      "image/png": "[encoded data removed]"
     },
     "metadata": {},
     "output_type": "display_data"
    },
    {
     "data": {
      "text/plain": "<ggplot: (682725506)>"
     },
     "execution_count": 11,
     "metadata": {},
     "output_type": "execute_result"
    }
   ],
   "source": [
    "from datar import f\n",
    "import datar.dplyr as dp\n",
    "import plotnine as p9\n",
    "d = as_tibble(pd.read_sql(\"test_a\", con))\n",
    "(d >>\n",
    "  dp.group_by(f.year, f.type) >>\n",
    "  dp.summarise(books=dp.n(), _groups=\"drop\") >>\n",
    "  p9.ggplot(p9.aes(x='year', y='books',fill='type')) +\n",
    "  p9.scale_y_continuous(breaks=range(0,3)) +\n",
    "  p9.scale_x_continuous(breaks=range(1700,1800,2)) +\n",
    "  p9.geom_col())"
   ],
   "metadata": {
    "collapsed": false,
    "pycharm": {
     "name": "#%%\n"
    }
   }
  }
 ],
 "metadata": {
  "kernelspec": {
   "display_name": "Python 3",
   "language": "python",
   "name": "python3"
  },
  "language_info": {
   "codemirror_mode": {
    "name": "ipython",
    "version": 2
   },
   "file_extension": ".py",
   "mimetype": "text/x-python",
   "name": "python",
   "nbconvert_exporter": "python",
   "pygments_lexer": "ipython2",
   "version": "2.7.6"
  }
 },
 "nbformat": 4,
 "nbformat_minor": 0
}
